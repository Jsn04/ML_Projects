{
 "cells": [
  {
   "cell_type": "code",
   "execution_count": 1,
   "metadata": {},
   "outputs": [
    {
     "name": "stdout",
     "output_type": "stream",
     "text": [
      "Welcome to the Mental Health ChatBot!\n",
      "Let's start with some questions to help us understand your mental health. (A=yes, B=No, C=Sometimes)\n",
      "Do you often feel overwhelmed or unable to cope with daily problems and stress?\n",
      "Do you have trouble concentrating on things, such as reading the newspaper or watching television?\n",
      "Do you experience frequent mood swings or emotional highs and lows?\n",
      "Do you often feel hopeless or like there's no reason to live?\n",
      "Have you experienced a traumatic event or situation recently?\n",
      "Do you often have trouble sleeping or experience nightmares?\n",
      "Do you find it hard to connect with others or feel isolated?\n",
      "\n",
      "Thank you for your responses.\n",
      "Your total points:  21.0\n",
      "\n",
      "Thank you for your participation.\n",
      "If you need further assistance, please seek professional help.\n"
     ]
    }
   ],
   "source": [
    "import time\n",
    "\n",
    "class MentalHealthChatBot:\n",
    "    def __init__(self):\n",
    "        self.questions = {\n",
    "            \"Do you often feel overwhelmed or unable to cope with daily problems and stress?\": {\"A\": 5, \"B\": 2.5, \"C\": 1},\n",
    "            \"Do you have trouble concentrating on things, such as reading the newspaper or watching television?\": {\"A\": 5, \"B\": 2.5, \"C\": 1},\n",
    "            \"Do you experience frequent mood swings or emotional highs and lows?\": {\"A\": 5, \"B\": 2.5, \"C\": 1},\n",
    "            \"Do you often feel hopeless or like there's no reason to live?\": {\"A\": 5, \"B\": 2.5, \"C\": 1},\n",
    "            \"Have you experienced a traumatic event or situation recently?\": {\"A\": 5, \"B\": 2.5, \"C\": 1},\n",
    "            \"Do you often have trouble sleeping or experience nightmares?\": {\"A\": 5, \"B\": 2.5, \"C\": 1},\n",
    "            \"Do you find it hard to connect with others or feel isolated?\": {\"A\": 5, \"B\": 2.5, \"C\": 1}\n",
    "        }\n",
    "\n",
    "    def ask_question(self, question, options):\n",
    "        print(question)\n",
    "        while True:\n",
    "            user_answer = input(\"Your answer (Enter the letter): \").strip().upper()\n",
    "            if user_answer in options:\n",
    "                return user_answer\n",
    "            else:\n",
    "                print(\"Invalid option. Please choose from the given options.\")\n",
    "\n",
    "    def start_chat(self):\n",
    "        print(\"Welcome to the Mental Health ChatBot!\")\n",
    "        time.sleep(1)\n",
    "        print(\"Let's start with some questions to help us understand your mental health. (A=yes, B=No, C=Sometimes)\")\n",
    "        time.sleep(1)\n",
    "        \n",
    "        total_points = 0\n",
    "        \n",
    "        options = list(self.questions.values())[0].keys()  # Get options from any question\n",
    "        \n",
    "        for question in self.questions.keys():\n",
    "            user_answer = self.ask_question(question, options)\n",
    "            points = self.questions[question].get(user_answer, 0)\n",
    "            total_points += points\n",
    "        \n",
    "        print(\"\\nThank you for your responses.\")\n",
    "        print(\"Your total points: \", total_points)\n",
    "        print(\"\\nThank you for your participation.\")\n",
    "        print(\"If you need further assistance, please seek professional help.\")\n",
    "\n",
    "if __name__ == \"__main__\":\n",
    "    bot = MentalHealthChatBot()\n",
    "    bot.start_chat()\n"
   ]
  }
 ],
 "metadata": {
  "kernelspec": {
   "display_name": "Python 3",
   "language": "python",
   "name": "python3"
  },
  "language_info": {
   "codemirror_mode": {
    "name": "ipython",
    "version": 3
   },
   "file_extension": ".py",
   "mimetype": "text/x-python",
   "name": "python",
   "nbconvert_exporter": "python",
   "pygments_lexer": "ipython3",
   "version": "3.11.8"
  }
 },
 "nbformat": 4,
 "nbformat_minor": 2
}
